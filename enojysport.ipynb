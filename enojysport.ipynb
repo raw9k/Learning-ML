{
 "cells": [
  {
   "cell_type": "code",
   "execution_count": null,
   "metadata": {},
   "outputs": [
    {
     "name": "stdout",
     "output_type": "stream",
     "text": [
      "Step 1:\n",
      "G: [['?', '?', '?', '?', '?', '?']]\n",
      "S: [['?', '?', '?', '?', '?', '?']]\n",
      "\n",
      "Step 2:\n",
      "G: [['?', '?', '?', '?', '?', '?']]\n",
      "S: [['?', '?', '?', '?', '?', '?']]\n",
      "\n",
      "Step 3:\n",
      "G: [['rainy', '?', '?', '?', '?', '?'], ['?', 'cold', '?', '?', '?', '?'], ['?', '?', 'high', '?', '?', '?'], ['?', '?', '?', 'strong', '?', '?'], ['?', '?', '?', '?', 'warm', '?'], ['?', '?', '?', '?', '?', 'change']]\n",
      "S: [['?', '?', '?', '?', '?', '?']]\n",
      "\n",
      "Step 4:\n",
      "G: [['?', '?', 'high', '?', '?', '?'], ['?', '?', '?', 'strong', '?', '?'], ['?', '?', '?', '?', '?', 'change']]\n",
      "S: [['?', '?', '?', '?', '?', '?']]\n",
      "\n",
      "Final General Hypothesis (G): [['?', '?', 'high', '?', '?', '?'], ['?', '?', '?', 'strong', '?', '?'], ['?', '?', '?', '?', '?', 'change']]\n",
      "Final Specific Hypothesis (S): [['?', '?', '?', '?', '?', '?']]\n"
     ]
    }
   ],
   "source": [
    "import pandas as pd\n",
    "import pandas as pd\n",
    "\n",
    "# Load the dataset from CSV\n",
    "data = pd.read_csv(r\"C:\\Users\\rauna\\Downloads\\enjoysport.csv\")\n",
    "\n",
    "# Extract features and labels\n",
    "X = data.iloc[:, :-1].values  # Features (sky, airtemp, humidity, wind, water, forecast)\n",
    "y = data.iloc[:, -1].values   # Labels (enjoysport)\n",
    "\n",
    "# Initialize the most general and most specific hypotheses\n",
    "def initialize_hypotheses(features):\n",
    "    num_features = features.shape[1]\n",
    "    G = [['?' for _ in range(num_features)]]  # Most general hypothesis\n",
    "    S = [['∅' for _ in range(num_features)]]  # Most specific hypothesis\n",
    "    return G, S\n",
    "\n",
    "# Check if a hypothesis is consistent with an example\n",
    "def is_consistent(hypothesis, example, label):\n",
    "    for i in range(len(hypothesis)):\n",
    "        if hypothesis[i] != '?' and hypothesis[i] != example[i]:\n",
    "            return False\n",
    "    return True\n",
    "\n",
    "# Candidate Elimination Algorithm\n",
    "def candidate_elimination(X, y):\n",
    "    G, S = initialize_hypotheses(X)\n",
    "    for i in range(len(X)):\n",
    "        example = X[i]\n",
    "        label = y[i]\n",
    "        if label == 'yes':  # Positive example\n",
    "            # Update G: Remove inconsistent hypotheses\n",
    "            G = [h for h in G if is_consistent(h, example, label)]\n",
    "            # Update S: Generalize to cover the example\n",
    "            for j in range(len(S[0])):\n",
    "                if S[0][j] != example[j]:\n",
    "                    S[0][j] = '?'\n",
    "        else:  # Negative example\n",
    "            # Update S: No change (already specific)\n",
    "            # Update G: Specialize to exclude the example\n",
    "            new_G = []\n",
    "            for h in G:\n",
    "                if not is_consistent(h, example, label):\n",
    "                    new_G.append(h)\n",
    "                else:\n",
    "                    # Specialize h to exclude the example\n",
    "                    for j in range(len(h)):\n",
    "                        if h[j] == '?':\n",
    "                            new_h = h.copy()\n",
    "                            new_h[j] = example[j]\n",
    "                            if is_consistent(new_h, example, label):\n",
    "                                new_G.append(new_h)\n",
    "            G = new_G\n",
    "        print(f\"Step {i+1}:\")\n",
    "        print(f\"G: {G}\")\n",
    "        print(f\"S: {S}\")\n",
    "        print()\n",
    "    return G, S\n",
    "\n",
    "# Run the algorithm\n",
    "G, S = candidate_elimination(X, y)\n",
    "\n",
    "# Final output\n",
    "print(\"Final General Hypothesis (G):\", G)\n",
    "print(\"Final Specific Hypothesis (S):\", S)"
   ]
  },
  {
   "cell_type": "code",
   "execution_count": null,
   "metadata": {},
   "outputs": [],
   "source": []
  },
  {
   "cell_type": "code",
   "execution_count": null,
   "metadata": {},
   "outputs": [],
   "source": []
  }
 ],
 "metadata": {
  "kernelspec": {
   "display_name": "Python 3",
   "language": "python",
   "name": "python3"
  },
  "language_info": {
   "codemirror_mode": {
    "name": "ipython",
    "version": 3
   },
   "file_extension": ".py",
   "mimetype": "text/x-python",
   "name": "python",
   "nbconvert_exporter": "python",
   "pygments_lexer": "ipython3",
   "version": "3.12.0"
  }
 },
 "nbformat": 4,
 "nbformat_minor": 2
}
