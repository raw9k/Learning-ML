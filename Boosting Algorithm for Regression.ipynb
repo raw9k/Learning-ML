{
 "cells": [
  {
   "cell_type": "markdown",
   "metadata": {},
   "source": [
    "# Boosting Algorithm for Regression"
   ]
  },
  {
   "cell_type": "markdown",
   "metadata": {},
   "source": [
    "## Used Car Price Prediction\n",
    "\n",
    "### 1) Problem statement.\n",
    "\n",
    "* This dataset comprises used cars sold on cardehko.com in India as well as important features of these cars.\n",
    "* If user can predict the price of the car based on input features.\n",
    "* Prediction results can be used to give new seller the price suggestion based on market condition.\n",
    "\n",
    "### 2) Data Collection.\n",
    "* The Dataset is collected from scrapping from cardheko webiste\n",
    "* The data consists of 13 column and 15411 rows."
   ]
  },
  {
   "cell_type": "code",
   "execution_count": 6,
   "metadata": {},
   "outputs": [],
   "source": [
    "import pandas as pd\n",
    "import numpy as np\n",
    "import matplotlib.pyplot as plt\n",
    "import seaborn as sns\n",
    "import plotly.express as px\n",
    "import warnings\n",
    "\n",
    "warnings.filterwarnings(\"ignore\")\n",
    "\n",
    "%matplotlib inline"
   ]
  },
  {
   "cell_type": "code",
   "execution_count": 7,
   "metadata": {},
   "outputs": [],
   "source": [
    "df = pd.read_csv(r\"C:\\Users\\rauna\\codes\\datasets\\cardekho_imputated.csv\", index_col=[0])"
   ]
  },
  {
   "cell_type": "code",
   "execution_count": 8,
   "metadata": {},
   "outputs": [
    {
     "data": {
      "application/vnd.microsoft.datawrangler.viewer.v0+json": {
       "columns": [
        {
         "name": "index",
         "rawType": "int64",
         "type": "integer"
        },
        {
         "name": "car_name",
         "rawType": "object",
         "type": "string"
        },
        {
         "name": "brand",
         "rawType": "object",
         "type": "string"
        },
        {
         "name": "model",
         "rawType": "object",
         "type": "string"
        },
        {
         "name": "vehicle_age",
         "rawType": "int64",
         "type": "integer"
        },
        {
         "name": "km_driven",
         "rawType": "int64",
         "type": "integer"
        },
        {
         "name": "seller_type",
         "rawType": "object",
         "type": "string"
        },
        {
         "name": "fuel_type",
         "rawType": "object",
         "type": "string"
        },
        {
         "name": "transmission_type",
         "rawType": "object",
         "type": "string"
        },
        {
         "name": "mileage",
         "rawType": "float64",
         "type": "float"
        },
        {
         "name": "engine",
         "rawType": "int64",
         "type": "integer"
        },
        {
         "name": "max_power",
         "rawType": "float64",
         "type": "float"
        },
        {
         "name": "seats",
         "rawType": "int64",
         "type": "integer"
        },
        {
         "name": "selling_price",
         "rawType": "int64",
         "type": "integer"
        }
       ],
       "ref": "bf101dc1-46bd-43ac-a72b-8be9b7c5bc55",
       "rows": [
        [
         "0",
         "Maruti Alto",
         "Maruti",
         "Alto",
         "9",
         "120000",
         "Individual",
         "Petrol",
         "Manual",
         "19.7",
         "796",
         "46.3",
         "5",
         "120000"
        ],
        [
         "1",
         "Hyundai Grand",
         "Hyundai",
         "Grand",
         "5",
         "20000",
         "Individual",
         "Petrol",
         "Manual",
         "18.9",
         "1197",
         "82.0",
         "5",
         "550000"
        ],
        [
         "2",
         "Hyundai i20",
         "Hyundai",
         "i20",
         "11",
         "60000",
         "Individual",
         "Petrol",
         "Manual",
         "17.0",
         "1197",
         "80.0",
         "5",
         "215000"
        ],
        [
         "3",
         "Maruti Alto",
         "Maruti",
         "Alto",
         "9",
         "37000",
         "Individual",
         "Petrol",
         "Manual",
         "20.92",
         "998",
         "67.1",
         "5",
         "226000"
        ],
        [
         "4",
         "Ford Ecosport",
         "Ford",
         "Ecosport",
         "6",
         "30000",
         "Dealer",
         "Diesel",
         "Manual",
         "22.77",
         "1498",
         "98.59",
         "5",
         "570000"
        ]
       ],
       "shape": {
        "columns": 13,
        "rows": 5
       }
      },
      "text/html": [
       "<div>\n",
       "<style scoped>\n",
       "    .dataframe tbody tr th:only-of-type {\n",
       "        vertical-align: middle;\n",
       "    }\n",
       "\n",
       "    .dataframe tbody tr th {\n",
       "        vertical-align: top;\n",
       "    }\n",
       "\n",
       "    .dataframe thead th {\n",
       "        text-align: right;\n",
       "    }\n",
       "</style>\n",
       "<table border=\"1\" class=\"dataframe\">\n",
       "  <thead>\n",
       "    <tr style=\"text-align: right;\">\n",
       "      <th></th>\n",
       "      <th>car_name</th>\n",
       "      <th>brand</th>\n",
       "      <th>model</th>\n",
       "      <th>vehicle_age</th>\n",
       "      <th>km_driven</th>\n",
       "      <th>seller_type</th>\n",
       "      <th>fuel_type</th>\n",
       "      <th>transmission_type</th>\n",
       "      <th>mileage</th>\n",
       "      <th>engine</th>\n",
       "      <th>max_power</th>\n",
       "      <th>seats</th>\n",
       "      <th>selling_price</th>\n",
       "    </tr>\n",
       "  </thead>\n",
       "  <tbody>\n",
       "    <tr>\n",
       "      <th>0</th>\n",
       "      <td>Maruti Alto</td>\n",
       "      <td>Maruti</td>\n",
       "      <td>Alto</td>\n",
       "      <td>9</td>\n",
       "      <td>120000</td>\n",
       "      <td>Individual</td>\n",
       "      <td>Petrol</td>\n",
       "      <td>Manual</td>\n",
       "      <td>19.70</td>\n",
       "      <td>796</td>\n",
       "      <td>46.30</td>\n",
       "      <td>5</td>\n",
       "      <td>120000</td>\n",
       "    </tr>\n",
       "    <tr>\n",
       "      <th>1</th>\n",
       "      <td>Hyundai Grand</td>\n",
       "      <td>Hyundai</td>\n",
       "      <td>Grand</td>\n",
       "      <td>5</td>\n",
       "      <td>20000</td>\n",
       "      <td>Individual</td>\n",
       "      <td>Petrol</td>\n",
       "      <td>Manual</td>\n",
       "      <td>18.90</td>\n",
       "      <td>1197</td>\n",
       "      <td>82.00</td>\n",
       "      <td>5</td>\n",
       "      <td>550000</td>\n",
       "    </tr>\n",
       "    <tr>\n",
       "      <th>2</th>\n",
       "      <td>Hyundai i20</td>\n",
       "      <td>Hyundai</td>\n",
       "      <td>i20</td>\n",
       "      <td>11</td>\n",
       "      <td>60000</td>\n",
       "      <td>Individual</td>\n",
       "      <td>Petrol</td>\n",
       "      <td>Manual</td>\n",
       "      <td>17.00</td>\n",
       "      <td>1197</td>\n",
       "      <td>80.00</td>\n",
       "      <td>5</td>\n",
       "      <td>215000</td>\n",
       "    </tr>\n",
       "    <tr>\n",
       "      <th>3</th>\n",
       "      <td>Maruti Alto</td>\n",
       "      <td>Maruti</td>\n",
       "      <td>Alto</td>\n",
       "      <td>9</td>\n",
       "      <td>37000</td>\n",
       "      <td>Individual</td>\n",
       "      <td>Petrol</td>\n",
       "      <td>Manual</td>\n",
       "      <td>20.92</td>\n",
       "      <td>998</td>\n",
       "      <td>67.10</td>\n",
       "      <td>5</td>\n",
       "      <td>226000</td>\n",
       "    </tr>\n",
       "    <tr>\n",
       "      <th>4</th>\n",
       "      <td>Ford Ecosport</td>\n",
       "      <td>Ford</td>\n",
       "      <td>Ecosport</td>\n",
       "      <td>6</td>\n",
       "      <td>30000</td>\n",
       "      <td>Dealer</td>\n",
       "      <td>Diesel</td>\n",
       "      <td>Manual</td>\n",
       "      <td>22.77</td>\n",
       "      <td>1498</td>\n",
       "      <td>98.59</td>\n",
       "      <td>5</td>\n",
       "      <td>570000</td>\n",
       "    </tr>\n",
       "  </tbody>\n",
       "</table>\n",
       "</div>"
      ],
      "text/plain": [
       "        car_name    brand     model  ...  max_power  seats selling_price\n",
       "0    Maruti Alto   Maruti      Alto  ...      46.30      5        120000\n",
       "1  Hyundai Grand  Hyundai     Grand  ...      82.00      5        550000\n",
       "2    Hyundai i20  Hyundai       i20  ...      80.00      5        215000\n",
       "3    Maruti Alto   Maruti      Alto  ...      67.10      5        226000\n",
       "4  Ford Ecosport     Ford  Ecosport  ...      98.59      5        570000\n",
       "\n",
       "[5 rows x 13 columns]"
      ]
     },
     "execution_count": 8,
     "metadata": {},
     "output_type": "execute_result"
    }
   ],
   "source": [
    "df.head()"
   ]
  },
  {
   "cell_type": "markdown",
   "metadata": {},
   "source": [
    "### Data Cleaning\n",
    "#### Handling Missing values"
   ]
  },
  {
   "cell_type": "markdown",
   "metadata": {},
   "source": [
    "* Handling Missing values \n",
    "* Handling Duplicates\n",
    "* Check data type\n",
    "* Understand the dataset"
   ]
  },
  {
   "cell_type": "code",
   "execution_count": 9,
   "metadata": {},
   "outputs": [
    {
     "data": {
      "application/vnd.microsoft.datawrangler.viewer.v0+json": {
       "columns": [
        {
         "name": "index",
         "rawType": "object",
         "type": "string"
        },
        {
         "name": "0",
         "rawType": "int64",
         "type": "integer"
        }
       ],
       "ref": "c70b49cf-a523-4495-a765-ca172943a707",
       "rows": [
        [
         "car_name",
         "0"
        ],
        [
         "brand",
         "0"
        ],
        [
         "model",
         "0"
        ],
        [
         "vehicle_age",
         "0"
        ],
        [
         "km_driven",
         "0"
        ],
        [
         "seller_type",
         "0"
        ],
        [
         "fuel_type",
         "0"
        ],
        [
         "transmission_type",
         "0"
        ],
        [
         "mileage",
         "0"
        ],
        [
         "engine",
         "0"
        ],
        [
         "max_power",
         "0"
        ],
        [
         "seats",
         "0"
        ],
        [
         "selling_price",
         "0"
        ]
       ],
       "shape": {
        "columns": 1,
        "rows": 13
       }
      },
      "text/plain": [
       "car_name             0\n",
       "brand                0\n",
       "model                0\n",
       "vehicle_age          0\n",
       "km_driven            0\n",
       "seller_type          0\n",
       "fuel_type            0\n",
       "transmission_type    0\n",
       "mileage              0\n",
       "engine               0\n",
       "max_power            0\n",
       "seats                0\n",
       "selling_price        0\n",
       "dtype: int64"
      ]
     },
     "execution_count": 9,
     "metadata": {},
     "output_type": "execute_result"
    }
   ],
   "source": [
    "## Check Null Values\n",
    "##Check features with nan value\n",
    "df.isnull().sum()"
   ]
  },
  {
   "cell_type": "code",
   "execution_count": 10,
   "metadata": {},
   "outputs": [],
   "source": [
    "## Remove Unnecessary Columns\n",
    "df.drop('car_name', axis=1, inplace=True)\n",
    "df.drop('brand', axis=1, inplace=True)"
   ]
  },
  {
   "cell_type": "code",
   "execution_count": 11,
   "metadata": {},
   "outputs": [
    {
     "data": {
      "application/vnd.microsoft.datawrangler.viewer.v0+json": {
       "columns": [
        {
         "name": "index",
         "rawType": "int64",
         "type": "integer"
        },
        {
         "name": "model",
         "rawType": "object",
         "type": "string"
        },
        {
         "name": "vehicle_age",
         "rawType": "int64",
         "type": "integer"
        },
        {
         "name": "km_driven",
         "rawType": "int64",
         "type": "integer"
        },
        {
         "name": "seller_type",
         "rawType": "object",
         "type": "string"
        },
        {
         "name": "fuel_type",
         "rawType": "object",
         "type": "string"
        },
        {
         "name": "transmission_type",
         "rawType": "object",
         "type": "string"
        },
        {
         "name": "mileage",
         "rawType": "float64",
         "type": "float"
        },
        {
         "name": "engine",
         "rawType": "int64",
         "type": "integer"
        },
        {
         "name": "max_power",
         "rawType": "float64",
         "type": "float"
        },
        {
         "name": "seats",
         "rawType": "int64",
         "type": "integer"
        },
        {
         "name": "selling_price",
         "rawType": "int64",
         "type": "integer"
        }
       ],
       "ref": "c4c02d2a-a8d3-41ad-a90d-2ac8f3aaa1c8",
       "rows": [
        [
         "0",
         "Alto",
         "9",
         "120000",
         "Individual",
         "Petrol",
         "Manual",
         "19.7",
         "796",
         "46.3",
         "5",
         "120000"
        ],
        [
         "1",
         "Grand",
         "5",
         "20000",
         "Individual",
         "Petrol",
         "Manual",
         "18.9",
         "1197",
         "82.0",
         "5",
         "550000"
        ],
        [
         "2",
         "i20",
         "11",
         "60000",
         "Individual",
         "Petrol",
         "Manual",
         "17.0",
         "1197",
         "80.0",
         "5",
         "215000"
        ],
        [
         "3",
         "Alto",
         "9",
         "37000",
         "Individual",
         "Petrol",
         "Manual",
         "20.92",
         "998",
         "67.1",
         "5",
         "226000"
        ],
        [
         "4",
         "Ecosport",
         "6",
         "30000",
         "Dealer",
         "Diesel",
         "Manual",
         "22.77",
         "1498",
         "98.59",
         "5",
         "570000"
        ]
       ],
       "shape": {
        "columns": 11,
        "rows": 5
       }
      },
      "text/html": [
       "<div>\n",
       "<style scoped>\n",
       "    .dataframe tbody tr th:only-of-type {\n",
       "        vertical-align: middle;\n",
       "    }\n",
       "\n",
       "    .dataframe tbody tr th {\n",
       "        vertical-align: top;\n",
       "    }\n",
       "\n",
       "    .dataframe thead th {\n",
       "        text-align: right;\n",
       "    }\n",
       "</style>\n",
       "<table border=\"1\" class=\"dataframe\">\n",
       "  <thead>\n",
       "    <tr style=\"text-align: right;\">\n",
       "      <th></th>\n",
       "      <th>model</th>\n",
       "      <th>vehicle_age</th>\n",
       "      <th>km_driven</th>\n",
       "      <th>seller_type</th>\n",
       "      <th>fuel_type</th>\n",
       "      <th>transmission_type</th>\n",
       "      <th>mileage</th>\n",
       "      <th>engine</th>\n",
       "      <th>max_power</th>\n",
       "      <th>seats</th>\n",
       "      <th>selling_price</th>\n",
       "    </tr>\n",
       "  </thead>\n",
       "  <tbody>\n",
       "    <tr>\n",
       "      <th>0</th>\n",
       "      <td>Alto</td>\n",
       "      <td>9</td>\n",
       "      <td>120000</td>\n",
       "      <td>Individual</td>\n",
       "      <td>Petrol</td>\n",
       "      <td>Manual</td>\n",
       "      <td>19.70</td>\n",
       "      <td>796</td>\n",
       "      <td>46.30</td>\n",
       "      <td>5</td>\n",
       "      <td>120000</td>\n",
       "    </tr>\n",
       "    <tr>\n",
       "      <th>1</th>\n",
       "      <td>Grand</td>\n",
       "      <td>5</td>\n",
       "      <td>20000</td>\n",
       "      <td>Individual</td>\n",
       "      <td>Petrol</td>\n",
       "      <td>Manual</td>\n",
       "      <td>18.90</td>\n",
       "      <td>1197</td>\n",
       "      <td>82.00</td>\n",
       "      <td>5</td>\n",
       "      <td>550000</td>\n",
       "    </tr>\n",
       "    <tr>\n",
       "      <th>2</th>\n",
       "      <td>i20</td>\n",
       "      <td>11</td>\n",
       "      <td>60000</td>\n",
       "      <td>Individual</td>\n",
       "      <td>Petrol</td>\n",
       "      <td>Manual</td>\n",
       "      <td>17.00</td>\n",
       "      <td>1197</td>\n",
       "      <td>80.00</td>\n",
       "      <td>5</td>\n",
       "      <td>215000</td>\n",
       "    </tr>\n",
       "    <tr>\n",
       "      <th>3</th>\n",
       "      <td>Alto</td>\n",
       "      <td>9</td>\n",
       "      <td>37000</td>\n",
       "      <td>Individual</td>\n",
       "      <td>Petrol</td>\n",
       "      <td>Manual</td>\n",
       "      <td>20.92</td>\n",
       "      <td>998</td>\n",
       "      <td>67.10</td>\n",
       "      <td>5</td>\n",
       "      <td>226000</td>\n",
       "    </tr>\n",
       "    <tr>\n",
       "      <th>4</th>\n",
       "      <td>Ecosport</td>\n",
       "      <td>6</td>\n",
       "      <td>30000</td>\n",
       "      <td>Dealer</td>\n",
       "      <td>Diesel</td>\n",
       "      <td>Manual</td>\n",
       "      <td>22.77</td>\n",
       "      <td>1498</td>\n",
       "      <td>98.59</td>\n",
       "      <td>5</td>\n",
       "      <td>570000</td>\n",
       "    </tr>\n",
       "  </tbody>\n",
       "</table>\n",
       "</div>"
      ],
      "text/plain": [
       "      model  vehicle_age  km_driven  ... max_power seats selling_price\n",
       "0      Alto            9     120000  ...     46.30     5        120000\n",
       "1     Grand            5      20000  ...     82.00     5        550000\n",
       "2       i20           11      60000  ...     80.00     5        215000\n",
       "3      Alto            9      37000  ...     67.10     5        226000\n",
       "4  Ecosport            6      30000  ...     98.59     5        570000\n",
       "\n",
       "[5 rows x 11 columns]"
      ]
     },
     "execution_count": 11,
     "metadata": {},
     "output_type": "execute_result"
    }
   ],
   "source": [
    "df.head()"
   ]
  },
  {
   "cell_type": "code",
   "execution_count": 12,
   "metadata": {},
   "outputs": [
    {
     "data": {
      "text/plain": [
       "array(['Alto', 'Grand', 'i20', 'Ecosport', 'Wagon R', 'i10', 'Venue',\n",
       "       'Swift', 'Verna', 'Duster', 'Cooper', 'Ciaz', 'C-Class', 'Innova',\n",
       "       'Baleno', 'Swift Dzire', 'Vento', 'Creta', 'City', 'Bolero',\n",
       "       'Fortuner', 'KWID', 'Amaze', 'Santro', 'XUV500', 'KUV100', 'Ignis',\n",
       "       'RediGO', 'Scorpio', 'Marazzo', 'Aspire', 'Figo', 'Vitara',\n",
       "       'Tiago', 'Polo', 'Seltos', 'Celerio', 'GO', '5', 'CR-V',\n",
       "       'Endeavour', 'KUV', 'Jazz', '3', 'A4', 'Tigor', 'Ertiga', 'Safari',\n",
       "       'Thar', 'Hexa', 'Rover', 'Eeco', 'A6', 'E-Class', 'Q7', 'Z4', '6',\n",
       "       'XF', 'X5', 'Hector', 'Civic', 'D-Max', 'Cayenne', 'X1', 'Rapid',\n",
       "       'Freestyle', 'Superb', 'Nexon', 'XUV300', 'Dzire VXI', 'S90',\n",
       "       'WR-V', 'XL6', 'Triber', 'ES', 'Wrangler', 'Camry', 'Elantra',\n",
       "       'Yaris', 'GL-Class', '7', 'S-Presso', 'Dzire LXI', 'Aura', 'XC',\n",
       "       'Ghibli', 'Continental', 'CR', 'Kicks', 'S-Class', 'Tucson',\n",
       "       'Harrier', 'X3', 'Octavia', 'Compass', 'CLS', 'redi-GO', 'Glanza',\n",
       "       'Macan', 'X4', 'Dzire ZXI', 'XC90', 'F-PACE', 'A8', 'MUX',\n",
       "       'GTC4Lusso', 'GLS', 'X-Trail', 'XE', 'XC60', 'Panamera', 'Alturas',\n",
       "       'Altroz', 'NX', 'Carnival', 'C', 'RX', 'Ghost', 'Quattroporte',\n",
       "       'Gurkha'], dtype=object)"
      ]
     },
     "execution_count": 12,
     "metadata": {},
     "output_type": "execute_result"
    }
   ],
   "source": [
    "df['model'].unique()"
   ]
  },
  {
   "cell_type": "code",
   "execution_count": 13,
   "metadata": {},
   "outputs": [
    {
     "name": "stdout",
     "output_type": "stream",
     "text": [
      "Num of Numerical Features : 7\n",
      "Num of Categorical Features : 4\n",
      "Num of Discrete Features : 2\n",
      "Num of Continuous Features : 5\n"
     ]
    }
   ],
   "source": [
    "## Getting All Different Types OF Features\n",
    "num_features = [feature for feature in df.columns if df[feature].dtype != 'O']\n",
    "print('Num of Numerical Features :', len(num_features))\n",
    "cat_features = [feature for feature in df.columns if df[feature].dtype == 'O']\n",
    "print('Num of Categorical Features :', len(cat_features))\n",
    "discrete_features=[feature for feature in num_features if len(df[feature].unique())<=25]\n",
    "print('Num of Discrete Features :',len(discrete_features))\n",
    "continuous_features=[feature for feature in num_features if feature not in discrete_features]\n",
    "print('Num of Continuous Features :',len(continuous_features))"
   ]
  },
  {
   "cell_type": "code",
   "execution_count": 14,
   "metadata": {},
   "outputs": [],
   "source": [
    "## Indpendent and dependent features\n",
    "from sklearn.model_selection import train_test_split\n",
    "X = df.drop(['selling_price'], axis=1)\n",
    "y = df['selling_price']"
   ]
  },
  {
   "cell_type": "code",
   "execution_count": 15,
   "metadata": {},
   "outputs": [
    {
     "data": {
      "application/vnd.microsoft.datawrangler.viewer.v0+json": {
       "columns": [
        {
         "name": "index",
         "rawType": "int64",
         "type": "integer"
        },
        {
         "name": "model",
         "rawType": "object",
         "type": "string"
        },
        {
         "name": "vehicle_age",
         "rawType": "int64",
         "type": "integer"
        },
        {
         "name": "km_driven",
         "rawType": "int64",
         "type": "integer"
        },
        {
         "name": "seller_type",
         "rawType": "object",
         "type": "string"
        },
        {
         "name": "fuel_type",
         "rawType": "object",
         "type": "string"
        },
        {
         "name": "transmission_type",
         "rawType": "object",
         "type": "string"
        },
        {
         "name": "mileage",
         "rawType": "float64",
         "type": "float"
        },
        {
         "name": "engine",
         "rawType": "int64",
         "type": "integer"
        },
        {
         "name": "max_power",
         "rawType": "float64",
         "type": "float"
        },
        {
         "name": "seats",
         "rawType": "int64",
         "type": "integer"
        }
       ],
       "ref": "71017ef0-ce4c-4fbf-a588-16d700f9ce67",
       "rows": [
        [
         "0",
         "Alto",
         "9",
         "120000",
         "Individual",
         "Petrol",
         "Manual",
         "19.7",
         "796",
         "46.3",
         "5"
        ],
        [
         "1",
         "Grand",
         "5",
         "20000",
         "Individual",
         "Petrol",
         "Manual",
         "18.9",
         "1197",
         "82.0",
         "5"
        ],
        [
         "2",
         "i20",
         "11",
         "60000",
         "Individual",
         "Petrol",
         "Manual",
         "17.0",
         "1197",
         "80.0",
         "5"
        ],
        [
         "3",
         "Alto",
         "9",
         "37000",
         "Individual",
         "Petrol",
         "Manual",
         "20.92",
         "998",
         "67.1",
         "5"
        ],
        [
         "4",
         "Ecosport",
         "6",
         "30000",
         "Dealer",
         "Diesel",
         "Manual",
         "22.77",
         "1498",
         "98.59",
         "5"
        ]
       ],
       "shape": {
        "columns": 10,
        "rows": 5
       }
      },
      "text/html": [
       "<div>\n",
       "<style scoped>\n",
       "    .dataframe tbody tr th:only-of-type {\n",
       "        vertical-align: middle;\n",
       "    }\n",
       "\n",
       "    .dataframe tbody tr th {\n",
       "        vertical-align: top;\n",
       "    }\n",
       "\n",
       "    .dataframe thead th {\n",
       "        text-align: right;\n",
       "    }\n",
       "</style>\n",
       "<table border=\"1\" class=\"dataframe\">\n",
       "  <thead>\n",
       "    <tr style=\"text-align: right;\">\n",
       "      <th></th>\n",
       "      <th>model</th>\n",
       "      <th>vehicle_age</th>\n",
       "      <th>km_driven</th>\n",
       "      <th>seller_type</th>\n",
       "      <th>fuel_type</th>\n",
       "      <th>transmission_type</th>\n",
       "      <th>mileage</th>\n",
       "      <th>engine</th>\n",
       "      <th>max_power</th>\n",
       "      <th>seats</th>\n",
       "    </tr>\n",
       "  </thead>\n",
       "  <tbody>\n",
       "    <tr>\n",
       "      <th>0</th>\n",
       "      <td>Alto</td>\n",
       "      <td>9</td>\n",
       "      <td>120000</td>\n",
       "      <td>Individual</td>\n",
       "      <td>Petrol</td>\n",
       "      <td>Manual</td>\n",
       "      <td>19.70</td>\n",
       "      <td>796</td>\n",
       "      <td>46.30</td>\n",
       "      <td>5</td>\n",
       "    </tr>\n",
       "    <tr>\n",
       "      <th>1</th>\n",
       "      <td>Grand</td>\n",
       "      <td>5</td>\n",
       "      <td>20000</td>\n",
       "      <td>Individual</td>\n",
       "      <td>Petrol</td>\n",
       "      <td>Manual</td>\n",
       "      <td>18.90</td>\n",
       "      <td>1197</td>\n",
       "      <td>82.00</td>\n",
       "      <td>5</td>\n",
       "    </tr>\n",
       "    <tr>\n",
       "      <th>2</th>\n",
       "      <td>i20</td>\n",
       "      <td>11</td>\n",
       "      <td>60000</td>\n",
       "      <td>Individual</td>\n",
       "      <td>Petrol</td>\n",
       "      <td>Manual</td>\n",
       "      <td>17.00</td>\n",
       "      <td>1197</td>\n",
       "      <td>80.00</td>\n",
       "      <td>5</td>\n",
       "    </tr>\n",
       "    <tr>\n",
       "      <th>3</th>\n",
       "      <td>Alto</td>\n",
       "      <td>9</td>\n",
       "      <td>37000</td>\n",
       "      <td>Individual</td>\n",
       "      <td>Petrol</td>\n",
       "      <td>Manual</td>\n",
       "      <td>20.92</td>\n",
       "      <td>998</td>\n",
       "      <td>67.10</td>\n",
       "      <td>5</td>\n",
       "    </tr>\n",
       "    <tr>\n",
       "      <th>4</th>\n",
       "      <td>Ecosport</td>\n",
       "      <td>6</td>\n",
       "      <td>30000</td>\n",
       "      <td>Dealer</td>\n",
       "      <td>Diesel</td>\n",
       "      <td>Manual</td>\n",
       "      <td>22.77</td>\n",
       "      <td>1498</td>\n",
       "      <td>98.59</td>\n",
       "      <td>5</td>\n",
       "    </tr>\n",
       "  </tbody>\n",
       "</table>\n",
       "</div>"
      ],
      "text/plain": [
       "      model  vehicle_age  km_driven  ... engine max_power seats\n",
       "0      Alto            9     120000  ...    796     46.30     5\n",
       "1     Grand            5      20000  ...   1197     82.00     5\n",
       "2       i20           11      60000  ...   1197     80.00     5\n",
       "3      Alto            9      37000  ...    998     67.10     5\n",
       "4  Ecosport            6      30000  ...   1498     98.59     5\n",
       "\n",
       "[5 rows x 10 columns]"
      ]
     },
     "execution_count": 15,
     "metadata": {},
     "output_type": "execute_result"
    }
   ],
   "source": [
    "X.head()"
   ]
  },
  {
   "cell_type": "markdown",
   "metadata": {},
   "source": [
    "## Feature Encoding and Scaling\n",
    "**One Hot Encoding for Columns which had lesser unique values and not ordinal**\n",
    "* One hot encoding is a process by which categorical variables are converted into a form that could be provided to ML algorithms to do a better job in prediction."
   ]
  },
  {
   "cell_type": "code",
   "execution_count": 16,
   "metadata": {},
   "outputs": [
    {
     "data": {
      "text/plain": [
       "120"
      ]
     },
     "execution_count": 16,
     "metadata": {},
     "output_type": "execute_result"
    }
   ],
   "source": [
    "len(df['model'].unique())"
   ]
  },
  {
   "cell_type": "code",
   "execution_count": 17,
   "metadata": {},
   "outputs": [
    {
     "data": {
      "application/vnd.microsoft.datawrangler.viewer.v0+json": {
       "columns": [
        {
         "name": "model",
         "rawType": "object",
         "type": "string"
        },
        {
         "name": "count",
         "rawType": "int64",
         "type": "integer"
        }
       ],
       "ref": "3698d8f1-3fd9-41a0-90e2-9d0287f06ebc",
       "rows": [
        [
         "i20",
         "906"
        ],
        [
         "Swift Dzire",
         "890"
        ],
        [
         "Swift",
         "781"
        ],
        [
         "Alto",
         "778"
        ],
        [
         "City",
         "757"
        ],
        [
         "Wagon R",
         "717"
        ],
        [
         "Grand",
         "580"
        ],
        [
         "Innova",
         "545"
        ],
        [
         "Verna",
         "492"
        ],
        [
         "i10",
         "410"
        ],
        [
         "Ecosport",
         "374"
        ],
        [
         "Polo",
         "373"
        ],
        [
         "Baleno",
         "364"
        ],
        [
         "Amaze",
         "362"
        ],
        [
         "Ciaz",
         "346"
        ],
        [
         "Ertiga",
         "343"
        ],
        [
         "Creta",
         "336"
        ],
        [
         "XUV500",
         "330"
        ],
        [
         "KWID",
         "306"
        ],
        [
         "Vitara",
         "295"
        ],
        [
         "Scorpio",
         "273"
        ],
        [
         "Figo",
         "271"
        ],
        [
         "Vento",
         "247"
        ],
        [
         "Celerio",
         "237"
        ],
        [
         "Duster",
         "218"
        ],
        [
         "Bolero",
         "211"
        ],
        [
         "Fortuner",
         "187"
        ],
        [
         "Rapid",
         "182"
        ],
        [
         "Jazz",
         "175"
        ],
        [
         "3",
         "152"
        ],
        [
         "Tiago",
         "145"
        ],
        [
         "Santro",
         "139"
        ],
        [
         "E-Class",
         "125"
        ],
        [
         "Eeco",
         "125"
        ],
        [
         "C-Class",
         "118"
        ],
        [
         "5",
         "118"
        ],
        [
         "WR-V",
         "101"
        ],
        [
         "Safari",
         "100"
        ],
        [
         "A4",
         "99"
        ],
        [
         "Superb",
         "93"
        ],
        [
         "Nexon",
         "85"
        ],
        [
         "GO",
         "85"
        ],
        [
         "RediGO",
         "75"
        ],
        [
         "Ignis",
         "73"
        ],
        [
         "KUV",
         "66"
        ],
        [
         "Aspire",
         "65"
        ],
        [
         "A6",
         "64"
        ],
        [
         "Thar",
         "62"
        ],
        [
         "Octavia",
         "59"
        ],
        [
         "Civic",
         "59"
        ]
       ],
       "shape": {
        "columns": 1,
        "rows": 120
       }
      },
      "text/plain": [
       "model\n",
       "i20             906\n",
       "Swift Dzire     890\n",
       "Swift           781\n",
       "Alto            778\n",
       "City            757\n",
       "               ... \n",
       "Altroz            1\n",
       "C                 1\n",
       "Ghost             1\n",
       "Quattroporte      1\n",
       "Gurkha            1\n",
       "Name: count, Length: 120, dtype: int64"
      ]
     },
     "execution_count": 17,
     "metadata": {},
     "output_type": "execute_result"
    }
   ],
   "source": [
    "df['model'].value_counts()"
   ]
  },
  {
   "cell_type": "code",
   "execution_count": 18,
   "metadata": {},
   "outputs": [],
   "source": [
    "from sklearn.preprocessing import LabelEncoder\n",
    "le=LabelEncoder()\n",
    "X['model']=le.fit_transform(X['model'])"
   ]
  },
  {
   "cell_type": "code",
   "execution_count": 19,
   "metadata": {},
   "outputs": [
    {
     "data": {
      "application/vnd.microsoft.datawrangler.viewer.v0+json": {
       "columns": [
        {
         "name": "index",
         "rawType": "int64",
         "type": "integer"
        },
        {
         "name": "model",
         "rawType": "int64",
         "type": "integer"
        },
        {
         "name": "vehicle_age",
         "rawType": "int64",
         "type": "integer"
        },
        {
         "name": "km_driven",
         "rawType": "int64",
         "type": "integer"
        },
        {
         "name": "seller_type",
         "rawType": "object",
         "type": "string"
        },
        {
         "name": "fuel_type",
         "rawType": "object",
         "type": "string"
        },
        {
         "name": "transmission_type",
         "rawType": "object",
         "type": "string"
        },
        {
         "name": "mileage",
         "rawType": "float64",
         "type": "float"
        },
        {
         "name": "engine",
         "rawType": "int64",
         "type": "integer"
        },
        {
         "name": "max_power",
         "rawType": "float64",
         "type": "float"
        },
        {
         "name": "seats",
         "rawType": "int64",
         "type": "integer"
        }
       ],
       "ref": "035356d9-499f-4bdb-a782-da357dd36a47",
       "rows": [
        [
         "0",
         "7",
         "9",
         "120000",
         "Individual",
         "Petrol",
         "Manual",
         "19.7",
         "796",
         "46.3",
         "5"
        ],
        [
         "1",
         "54",
         "5",
         "20000",
         "Individual",
         "Petrol",
         "Manual",
         "18.9",
         "1197",
         "82.0",
         "5"
        ],
        [
         "2",
         "118",
         "11",
         "60000",
         "Individual",
         "Petrol",
         "Manual",
         "17.0",
         "1197",
         "80.0",
         "5"
        ],
        [
         "3",
         "7",
         "9",
         "37000",
         "Individual",
         "Petrol",
         "Manual",
         "20.92",
         "998",
         "67.1",
         "5"
        ],
        [
         "4",
         "38",
         "6",
         "30000",
         "Dealer",
         "Diesel",
         "Manual",
         "22.77",
         "1498",
         "98.59",
         "5"
        ]
       ],
       "shape": {
        "columns": 10,
        "rows": 5
       }
      },
      "text/html": [
       "<div>\n",
       "<style scoped>\n",
       "    .dataframe tbody tr th:only-of-type {\n",
       "        vertical-align: middle;\n",
       "    }\n",
       "\n",
       "    .dataframe tbody tr th {\n",
       "        vertical-align: top;\n",
       "    }\n",
       "\n",
       "    .dataframe thead th {\n",
       "        text-align: right;\n",
       "    }\n",
       "</style>\n",
       "<table border=\"1\" class=\"dataframe\">\n",
       "  <thead>\n",
       "    <tr style=\"text-align: right;\">\n",
       "      <th></th>\n",
       "      <th>model</th>\n",
       "      <th>vehicle_age</th>\n",
       "      <th>km_driven</th>\n",
       "      <th>seller_type</th>\n",
       "      <th>fuel_type</th>\n",
       "      <th>transmission_type</th>\n",
       "      <th>mileage</th>\n",
       "      <th>engine</th>\n",
       "      <th>max_power</th>\n",
       "      <th>seats</th>\n",
       "    </tr>\n",
       "  </thead>\n",
       "  <tbody>\n",
       "    <tr>\n",
       "      <th>0</th>\n",
       "      <td>7</td>\n",
       "      <td>9</td>\n",
       "      <td>120000</td>\n",
       "      <td>Individual</td>\n",
       "      <td>Petrol</td>\n",
       "      <td>Manual</td>\n",
       "      <td>19.70</td>\n",
       "      <td>796</td>\n",
       "      <td>46.30</td>\n",
       "      <td>5</td>\n",
       "    </tr>\n",
       "    <tr>\n",
       "      <th>1</th>\n",
       "      <td>54</td>\n",
       "      <td>5</td>\n",
       "      <td>20000</td>\n",
       "      <td>Individual</td>\n",
       "      <td>Petrol</td>\n",
       "      <td>Manual</td>\n",
       "      <td>18.90</td>\n",
       "      <td>1197</td>\n",
       "      <td>82.00</td>\n",
       "      <td>5</td>\n",
       "    </tr>\n",
       "    <tr>\n",
       "      <th>2</th>\n",
       "      <td>118</td>\n",
       "      <td>11</td>\n",
       "      <td>60000</td>\n",
       "      <td>Individual</td>\n",
       "      <td>Petrol</td>\n",
       "      <td>Manual</td>\n",
       "      <td>17.00</td>\n",
       "      <td>1197</td>\n",
       "      <td>80.00</td>\n",
       "      <td>5</td>\n",
       "    </tr>\n",
       "    <tr>\n",
       "      <th>3</th>\n",
       "      <td>7</td>\n",
       "      <td>9</td>\n",
       "      <td>37000</td>\n",
       "      <td>Individual</td>\n",
       "      <td>Petrol</td>\n",
       "      <td>Manual</td>\n",
       "      <td>20.92</td>\n",
       "      <td>998</td>\n",
       "      <td>67.10</td>\n",
       "      <td>5</td>\n",
       "    </tr>\n",
       "    <tr>\n",
       "      <th>4</th>\n",
       "      <td>38</td>\n",
       "      <td>6</td>\n",
       "      <td>30000</td>\n",
       "      <td>Dealer</td>\n",
       "      <td>Diesel</td>\n",
       "      <td>Manual</td>\n",
       "      <td>22.77</td>\n",
       "      <td>1498</td>\n",
       "      <td>98.59</td>\n",
       "      <td>5</td>\n",
       "    </tr>\n",
       "  </tbody>\n",
       "</table>\n",
       "</div>"
      ],
      "text/plain": [
       "   model  vehicle_age  km_driven seller_type  ... mileage engine  max_power  seats\n",
       "0      7            9     120000  Individual  ...   19.70    796      46.30      5\n",
       "1     54            5      20000  Individual  ...   18.90   1197      82.00      5\n",
       "2    118           11      60000  Individual  ...   17.00   1197      80.00      5\n",
       "3      7            9      37000  Individual  ...   20.92    998      67.10      5\n",
       "4     38            6      30000      Dealer  ...   22.77   1498      98.59      5\n",
       "\n",
       "[5 rows x 10 columns]"
      ]
     },
     "execution_count": 19,
     "metadata": {},
     "output_type": "execute_result"
    }
   ],
   "source": [
    "X.head()"
   ]
  },
  {
   "cell_type": "code",
   "execution_count": 20,
   "metadata": {},
   "outputs": [
    {
     "data": {
      "text/plain": [
       "(3, 5, 2)"
      ]
     },
     "execution_count": 20,
     "metadata": {},
     "output_type": "execute_result"
    }
   ],
   "source": [
    "len(df['seller_type'].unique()),len(df['fuel_type'].unique()),len(df['transmission_type'].unique())"
   ]
  },
  {
   "cell_type": "code",
   "execution_count": 21,
   "metadata": {},
   "outputs": [],
   "source": [
    "# Create Column Transformer with 3 types of transformers\n",
    "num_features = X.select_dtypes(exclude=\"object\").columns\n",
    "onehot_columns = ['seller_type','fuel_type','transmission_type']\n",
    "\n",
    "from sklearn.preprocessing import OneHotEncoder, StandardScaler\n",
    "from sklearn.compose import ColumnTransformer\n",
    "\n",
    "numeric_transformer = StandardScaler()\n",
    "oh_transformer = OneHotEncoder(drop='first')\n",
    "\n",
    "preprocessor = ColumnTransformer(\n",
    "    [\n",
    "        (\"OneHotEncoder\", oh_transformer, onehot_columns),\n",
    "        (\"StandardScaler\", numeric_transformer, num_features)\n",
    "        \n",
    "    ],remainder='passthrough'\n",
    "    \n",
    ")"
   ]
  },
  {
   "cell_type": "code",
   "execution_count": 22,
   "metadata": {},
   "outputs": [],
   "source": [
    "X=preprocessor.fit_transform(X)"
   ]
  },
  {
   "cell_type": "code",
   "execution_count": 23,
   "metadata": {},
   "outputs": [
    {
     "data": {
      "application/vnd.microsoft.datawrangler.viewer.v0+json": {
       "columns": [
        {
         "name": "index",
         "rawType": "int64",
         "type": "integer"
        },
        {
         "name": "0",
         "rawType": "float64",
         "type": "float"
        },
        {
         "name": "1",
         "rawType": "float64",
         "type": "float"
        },
        {
         "name": "2",
         "rawType": "float64",
         "type": "float"
        },
        {
         "name": "3",
         "rawType": "float64",
         "type": "float"
        },
        {
         "name": "4",
         "rawType": "float64",
         "type": "float"
        },
        {
         "name": "5",
         "rawType": "float64",
         "type": "float"
        },
        {
         "name": "6",
         "rawType": "float64",
         "type": "float"
        },
        {
         "name": "7",
         "rawType": "float64",
         "type": "float"
        },
        {
         "name": "8",
         "rawType": "float64",
         "type": "float"
        },
        {
         "name": "9",
         "rawType": "float64",
         "type": "float"
        },
        {
         "name": "10",
         "rawType": "float64",
         "type": "float"
        },
        {
         "name": "11",
         "rawType": "float64",
         "type": "float"
        },
        {
         "name": "12",
         "rawType": "float64",
         "type": "float"
        },
        {
         "name": "13",
         "rawType": "float64",
         "type": "float"
        }
       ],
       "ref": "ebfca61e-e60a-4ecc-b78c-9747c7d5a959",
       "rows": [
        [
         "0",
         "1.0",
         "0.0",
         "0.0",
         "0.0",
         "0.0",
         "1.0",
         "1.0",
         "-1.5197135440647902",
         "0.9835618345823353",
         "1.247334733762358",
         "-0.0002759746211013263",
         "-1.3242588251442713",
         "-1.2633523773438045",
         "-0.4030224142720608"
        ],
        [
         "1",
         "1.0",
         "0.0",
         "0.0",
         "0.0",
         "0.0",
         "1.0",
         "1.0",
         "-0.2256933981095624",
         "-0.34393330983544934",
         "-0.6900162311764731",
         "-0.19207055797138212",
         "-0.5547177423199448",
         "-0.43257082374603356",
         "-0.4030224142720608"
        ],
        [
         "2",
         "1.0",
         "0.0",
         "0.0",
         "0.0",
         "0.0",
         "1.0",
         "1.0",
         "1.5363765878720241",
         "1.6473094067912277",
         "0.08492415479905924",
         "-0.6475826934282982",
         "-0.5547177423199448",
         "-0.4791132077010907",
         "-0.4030224142720608"
        ],
        [
         "3",
         "1.0",
         "0.0",
         "0.0",
         "0.0",
         "0.0",
         "1.0",
         "1.0",
         "-1.5197135440647902",
         "0.9835618345823353",
         "-0.3606665671368719",
         "0.2922107649880772",
         "-0.936609701128027",
         "-0.7793115842112097",
         "-0.4030224142720608"
        ],
        [
         "4",
         "0.0",
         "0.0",
         "1.0",
         "0.0",
         "0.0",
         "0.0",
         "1.0",
         "-0.6662108946049591",
         "-0.01205952373100319",
         "-0.49628113468259005",
         "0.7357357389856006",
         "0.02291783356564712",
         "-0.046501748838834095",
         "-0.4030224142720608"
        ],
        [
         "5",
         "1.0",
         "0.0",
         "0.0",
         "0.0",
         "0.0",
         "1.0",
         "1.0",
         "1.040794404314703",
         "0.6516880484778892",
         "-0.3994135864356485",
         "-0.19207055797138212",
         "-0.936609701128027",
         "-0.7793115842112097",
         "-0.4030224142720608"
        ],
        [
         "6",
         "0.0",
         "0.0",
         "0.0",
         "0.0",
         "0.0",
         "1.0",
         "1.0",
         "1.508844244341062",
         "0.6516880484778892",
         "-0.30254603818870696",
         "0.15795455664288022",
         "-0.5547177423199448",
         "-0.504711518876372",
         "-0.4030224142720608"
        ],
        [
         "7",
         "0.0",
         "0.0",
         "0.0",
         "0.0",
         "0.0",
         "1.0",
         "1.0",
         "1.040794404314703",
         "-1.0076808820443417",
         "-0.7382175231841512",
         "0.19391604102105833",
         "-0.936609701128027",
         "-0.7807078557298611",
         "-0.4030224142720608"
        ],
        [
         "8",
         "1.0",
         "0.0",
         "0.0",
         "0.0",
         "0.0",
         "1.0",
         "0.0",
         "0.9306650301908538",
         "-1.3395546681487878",
         "-0.6900162311764731",
         "-0.37187797986227017",
         "-0.936609701128027",
         "0.4133370046371307",
         "-0.4030224142720608"
        ],
        [
         "9",
         "0.0",
         "0.0",
         "0.0",
         "0.0",
         "0.0",
         "1.0",
         "1.0",
         "0.7104062819431555",
         "-0.6758070959398955",
         "-0.528809257383913",
         "-0.7434799851034382",
         "-0.5547177423199448",
         "-0.36275724781344776",
         "-0.4030224142720608"
        ],
        [
         "10",
         "0.0",
         "0.0",
         "1.0",
         "0.0",
         "0.0",
         "0.0",
         "1.0",
         "0.9581973737218161",
         "0.6516880484778892",
         "0.18717753872853074",
         "0.627851285851068",
         "0.18411845939418436",
         "0.5988084046980335",
         "-0.4030224142720608"
        ],
        [
         "11",
         "1.0",
         "0.0",
         "1.0",
         "0.0",
         "0.0",
         "0.0",
         "1.0",
         "-0.8314049557907328",
         "-0.34393330983544934",
         "-0.10881094169482386",
         "-0.014660568372372066",
         "-0.048087204001684765",
         "0.18295220405959783",
         "-0.4030224142720608"
        ],
        [
         "12",
         "0.0",
         "0.0",
         "0.0",
         "0.0",
         "0.0",
         "1.0",
         "0.0",
         "-0.9140019863836197",
         "-0.6758070959398955",
         "-0.9612453662679095",
         "-1.2685176570248318",
         "0.9824453682593213",
         "2.0593084132077286",
         "-0.4030224142720608"
        ],
        [
         "13",
         "0.0",
         "0.0",
         "1.0",
         "0.0",
         "0.0",
         "0.0",
         "1.0",
         "-1.0516637040384311",
         "-0.34393330983544934",
         "0.3949003091892722",
         "2.011169718264967",
         "-0.45684593378118993",
         "-0.28130807589209766",
         "-0.4030224142720608"
        ],
        [
         "14",
         "1.0",
         "0.0",
         "1.0",
         "0.0",
         "0.0",
         "0.0",
         "1.0",
         "0.7104062819431555",
         "-0.34393330983544934",
         "-0.6900162311764731",
         "1.3183117859120779",
         "-0.45684593378118993",
         "-0.6187403595662623",
         "-0.4030224142720608"
        ],
        [
         "15",
         "0.0",
         "0.0",
         "1.0",
         "0.0",
         "0.0",
         "0.0",
         "0.0",
         "-1.2719224522861294",
         "0.31981426237344296",
         "0.18179170304600079",
         "-0.10336556317187709",
         "1.2607083533204868",
         "1.6152940702764826",
         "-0.4030224142720608"
        ],
        [
         "16",
         "0.0",
         "0.0",
         "1.0",
         "0.0",
         "0.0",
         "0.0",
         "1.0",
         "0.7104062819431555",
         "0.31981426237344296",
         "0.12754587602771353",
         "2.0854901193132003",
         "-0.45684593378118993",
         "-0.6187403595662623",
         "-0.4030224142720608"
        ],
        [
         "17",
         "1.0",
         "0.0",
         "1.0",
         "0.0",
         "0.0",
         "0.0",
         "1.0",
         "-0.060499336923788664",
         "0.6516880484778892",
         "1.0535996372684748",
         "-1.6089530424715799",
         "1.934296682675446",
         "0.0002733470359981641",
         "3.3116776014855547"
        ],
        [
         "18",
         "1.0",
         "0.0",
         "0.0",
         "0.0",
         "0.0",
         "1.0",
         "1.0",
         "-1.3545194828790164",
         "-0.01205952373100319",
         "-0.6900162311764731",
         "0.40728751499824484",
         "-0.5547177423199448",
         "-0.40697251257075223",
         "-0.4030224142720608"
        ],
        [
         "19",
         "1.0",
         "0.0",
         "0.0",
         "0.0",
         "0.0",
         "1.0",
         "1.0",
         "0.7379386254741178",
         "-0.34393330983544934",
         "-0.30254603818870696",
         "0.2754287389449276",
         "-0.5547177423199448",
         "-0.40604166489165094",
         "-0.4030224142720608"
        ],
        [
         "20",
         "0.0",
         "0.0",
         "0.0",
         "0.0",
         "0.0",
         "1.0",
         "1.0",
         "0.9031326866598915",
         "0.6516880484778892",
         "-0.1669314706429888",
         "-0.8657490319892425",
         "0.21482334050438195",
         "0.060778446177572706",
         "-0.4030224142720608"
        ],
        [
         "21",
         "0.0",
         "0.0",
         "0.0",
         "0.0",
         "0.0",
         "1.0",
         "1.0",
         "-1.5197135440647902",
         "0.6516880484778892",
         "-0.5931486829295316",
         "0.2922107649880772",
         "-0.936609701128027",
         "-0.7793115842112097",
         "-0.4030224142720608"
        ],
        [
         "22",
         "1.0",
         "0.0",
         "1.0",
         "0.0",
         "0.0",
         "0.0",
         "1.0",
         "-0.8864696428526574",
         "-1.3395546681487878",
         "-0.7868837794234147",
         "-0.0074682714967362705",
         "0.18411845939418436",
         "0.5960158616607304",
         "-0.4030224142720608"
        ],
        [
         "23",
         "1.0",
         "0.0",
         "0.0",
         "0.0",
         "0.0",
         "1.0",
         "1.0",
         "-1.024131360507469",
         "-0.01205952373100319",
         "-0.10881094169482386",
         "-0.5516854017531583",
         "0.020998778496259772",
         "0.38890225306072573",
         "-0.4030224142720608"
        ],
        [
         "24",
         "1.0",
         "0.0",
         "1.0",
         "0.0",
         "0.0",
         "0.0",
         "1.0",
         "-1.3269871393480541",
         "1.3154356206867814",
         "-0.5931486829295316",
         "-1.462709672666991",
         "1.989949279687679",
         "-0.8747234713190768",
         "2.0734442628996828"
        ],
        [
         "25",
         "1.0",
         "0.0",
         "1.0",
         "0.0",
         "0.0",
         "0.0",
         "1.0",
         "0.7379386254741178",
         "-0.01205952373100319",
         "0.6661294442807085",
         "1.6515548744831907",
         "-0.45684593378118993",
         "-0.6187403595662623",
         "-0.4030224142720608"
        ],
        [
         "26",
         "0.0",
         "0.0",
         "1.0",
         "0.0",
         "0.0",
         "0.0",
         "1.0",
         "0.7379386254741178",
         "0.6516880484778892",
         "-0.2056784899417654",
         "1.6515548744831907",
         "-0.45684593378118993",
         "-0.6187403595662623",
         "-0.4030224142720608"
        ],
        [
         "27",
         "0.0",
         "0.0",
         "0.0",
         "0.0",
         "0.0",
         "1.0",
         "1.0",
         "-1.024131360507469",
         "2.642930765104566",
         "0.4191753167799558",
         "-0.4797624329968029",
         "0.020998778496259772",
         "-0.525655591656148",
         "-0.4030224142720608"
        ],
        [
         "28",
         "1.0",
         "0.0",
         "0.0",
         "0.0",
         "0.0",
         "1.0",
         "1.0",
         "1.5363765878720241",
         "-1.0076808820443417",
         "-0.5931486829295316",
         "-0.6020314798826063",
         "-0.5547177423199448",
         "-0.43582879062288754",
         "-0.4030224142720608"
        ],
        [
         "29",
         "1.0",
         "0.0",
         "1.0",
         "0.0",
         "0.0",
         "0.0",
         "1.0",
         "-0.47348448988822306",
         "0.6516880484778892",
         "1.0535996372684748",
         "-1.6065556101797014",
         "2.870795556536472",
         "1.5803872823101899",
         "2.0734442628996828"
        ],
        [
         "30",
         "1.0",
         "0.0",
         "0.0",
         "0.0",
         "0.0",
         "1.0",
         "1.0",
         "0.049630037200060505",
         "-0.6758070959398955",
         "-0.49628113468259005",
         "0.7932741139906853",
         "-0.9346906460586396",
         "-0.7816387034089625",
         "-0.4030224142720608"
        ],
        [
         "31",
         "0.0",
         "0.0",
         "0.0",
         "0.0",
         "0.0",
         "1.0",
         "1.0",
         "-1.4371165134719033",
         "-0.34393330983544934",
         "-0.3026816527562527",
         "-0.2639935267277367",
         "-0.55087963218117",
         "-0.27525756597794016",
         "-0.4030224142720608"
        ],
        [
         "32",
         "1.0",
         "0.0",
         "0.0",
         "0.0",
         "0.0",
         "1.0",
         "1.0",
         "0.6002769078193063",
         "1.9791831928956738",
         "0.47239434778682543",
         "-0.42701892257547513",
         "-0.7677328550219403",
         "-0.8956675440988525",
         "-0.4030224142720608"
        ],
        [
         "33",
         "1.0",
         "0.0",
         "1.0",
         "0.0",
         "0.0",
         "0.0",
         "1.0",
         "1.426247213748175",
         "0.9835618345823353",
         "2.506612860972598",
         "-1.1030948288852147",
         "1.3297943358184312",
         "0.9171583109506248",
         "2.0734442628996828"
        ],
        [
         "34",
         "1.0",
         "0.0",
         "1.0",
         "0.0",
         "0.0",
         "0.0",
         "1.0",
         "0.7379386254741178",
         "0.6516880484778892",
         "0.6661294442807085",
         "0.8867739733739464",
         "-0.45684593378118993",
         "-0.6187403595662623",
         "-0.4030224142720608"
        ],
        [
         "35",
         "1.0",
         "0.0",
         "1.0",
         "0.0",
         "0.0",
         "0.0",
         "1.0",
         "1.5363765878720241",
         "-1.0076808820443417",
         "-0.7868837794234147",
         "0.6805947962723948",
         "-0.1728257835118624",
         "-0.275955701737266",
         "-0.4030224142720608"
        ],
        [
         "36",
         "1.0",
         "0.0",
         "0.0",
         "0.0",
         "0.0",
         "1.0",
         "1.0",
         "1.5363765878720241",
         "-1.0076808820443417",
         "-0.30254603818870696",
         "-0.2639935267277367",
         "-0.5547177423199448",
         "-0.43652692638221346",
         "-0.4030224142720608"
        ],
        [
         "37",
         "0.0",
         "0.0",
         "0.0",
         "0.0",
         "0.0",
         "1.0",
         "0.0",
         "-1.024131360507469",
         "-0.01205952373100319",
         "-0.47342039329631186",
         "-0.4078394642404475",
         "0.020998778496259772",
         "0.38890225306072573",
         "-0.4030224142720608"
        ],
        [
         "38",
         "0.0",
         "0.0",
         "1.0",
         "0.0",
         "0.0",
         "0.0",
         "1.0",
         "0.7379386254741178",
         "0.31981426237344296",
         "0.0074301162015060025",
         "0.8867739733739464",
         "-0.45684593378118993",
         "-0.6187403595662623",
         "-0.4030224142720608"
        ],
        [
         "39",
         "0.0",
         "0.0",
         "0.0",
         "0.0",
         "0.0",
         "1.0",
         "0.0",
         "-1.3545194828790164",
         "-0.34393330983544934",
         "-0.06179143377575843",
         "0.40728751499824484",
         "-0.5547177423199448",
         "-0.40697251257075223",
         "-0.4030224142720608"
        ],
        [
         "40",
         "1.0",
         "0.0",
         "1.0",
         "0.0",
         "0.0",
         "0.0",
         "1.0",
         "-1.3269871393480541",
         "-1.671428454253234",
         "-0.30254603818870696",
         "0.31139022332310484",
         "0.02291783356564712",
         "-0.596400015267835",
         "2.0734442628996828"
        ],
        [
         "41",
         "1.0",
         "0.0",
         "0.0",
         "0.0",
         "0.0",
         "1.0",
         "1.0",
         "0.022097693669098212",
         "-1.0076808820443417",
         "-0.7481367601246381",
         "-0.37187797986227017",
         "-0.5527986872505574",
         "-0.43257082374603356",
         "-0.4030224142720608"
        ],
        [
         "42",
         "0.0",
         "0.0",
         "0.0",
         "0.0",
         "0.0",
         "1.0",
         "1.0",
         "-1.3545194828790164",
         "-0.34393330983544934",
         "-0.6512692118776966",
         "-1.0311718601288593",
         "0.19947089994928316",
         "-0.15331652001569043",
         "-0.4030224142720608"
        ],
        [
         "43",
         "1.0",
         "0.0",
         "0.0",
         "0.0",
         "0.0",
         "1.0",
         "1.0",
         "0.7379386254741178",
         "-0.34393330983544934",
         "-0.031316903097270615",
         "0.2754287389449276",
         "-0.5547177423199448",
         "-0.40604166489165094",
         "-0.4030224142720608"
        ],
        [
         "44",
         "1.0",
         "0.0",
         "0.0",
         "0.0",
         "0.0",
         "1.0",
         "1.0",
         "1.040794404314703",
         "-1.3395546681487878",
         "-0.8837513276703562",
         "0.19391604102105833",
         "-0.936609701128027",
         "-0.7807078557298611",
         "-0.4030224142720608"
        ],
        [
         "45",
         "1.0",
         "0.0",
         "0.0",
         "0.0",
         "0.0",
         "1.0",
         "1.0",
         "-0.08803168045475096",
         "-1.3395546681487878",
         "-0.6900162311764731",
         "0.2850184681124414",
         "-0.5547177423199448",
         "-0.43722506214153933",
         "-0.4030224142720608"
        ],
        [
         "46",
         "0.0",
         "1.0",
         "0.0",
         "0.0",
         "0.0",
         "0.0",
         "1.0",
         "1.040794404314703",
         "-1.0076808820443417",
         "-0.0460988909597539",
         "1.6539523067750694",
         "-0.936609701128027",
         "-0.9873560404903153",
         "-0.4030224142720608"
        ],
        [
         "47",
         "1.0",
         "0.0",
         "0.0",
         "0.0",
         "0.0",
         "1.0",
         "1.0",
         "0.4350828466335326",
         "-1.0076808820443417",
         "-0.5493064305929659",
         "0.6710050671048811",
         "-0.9346906460586396",
         "-0.7583675114314339",
         "-0.4030224142720608"
        ],
        [
         "48",
         "1.0",
         "0.0",
         "1.0",
         "0.0",
         "0.0",
         "0.0",
         "1.0",
         "0.9581973737218161",
         "0.31981426237344296",
         "1.0535996372684748",
         "0.627851285851068",
         "0.18411845939418436",
         "0.598342980858483",
         "-0.4030224142720608"
        ],
        [
         "49",
         "1.0",
         "0.0",
         "1.0",
         "0.0",
         "0.0",
         "0.0",
         "1.0",
         "1.5363765878720241",
         "-0.34393330983544934",
         "0.27865925129294233",
         "0.6805947962723948",
         "-0.1728257835118624",
         "-0.275955701737266",
         "-0.4030224142720608"
        ]
       ],
       "shape": {
        "columns": 14,
        "rows": 15411
       }
      },
      "text/html": [
       "<div>\n",
       "<style scoped>\n",
       "    .dataframe tbody tr th:only-of-type {\n",
       "        vertical-align: middle;\n",
       "    }\n",
       "\n",
       "    .dataframe tbody tr th {\n",
       "        vertical-align: top;\n",
       "    }\n",
       "\n",
       "    .dataframe thead th {\n",
       "        text-align: right;\n",
       "    }\n",
       "</style>\n",
       "<table border=\"1\" class=\"dataframe\">\n",
       "  <thead>\n",
       "    <tr style=\"text-align: right;\">\n",
       "      <th></th>\n",
       "      <th>0</th>\n",
       "      <th>1</th>\n",
       "      <th>2</th>\n",
       "      <th>3</th>\n",
       "      <th>4</th>\n",
       "      <th>5</th>\n",
       "      <th>6</th>\n",
       "      <th>7</th>\n",
       "      <th>8</th>\n",
       "      <th>9</th>\n",
       "      <th>10</th>\n",
       "      <th>11</th>\n",
       "      <th>12</th>\n",
       "      <th>13</th>\n",
       "    </tr>\n",
       "  </thead>\n",
       "  <tbody>\n",
       "    <tr>\n",
       "      <th>0</th>\n",
       "      <td>1.0</td>\n",
       "      <td>0.0</td>\n",
       "      <td>0.0</td>\n",
       "      <td>0.0</td>\n",
       "      <td>0.0</td>\n",
       "      <td>1.0</td>\n",
       "      <td>1.0</td>\n",
       "      <td>-1.519714</td>\n",
       "      <td>0.983562</td>\n",
       "      <td>1.247335</td>\n",
       "      <td>-0.000276</td>\n",
       "      <td>-1.324259</td>\n",
       "      <td>-1.263352</td>\n",
       "      <td>-0.403022</td>\n",
       "    </tr>\n",
       "    <tr>\n",
       "      <th>1</th>\n",
       "      <td>1.0</td>\n",
       "      <td>0.0</td>\n",
       "      <td>0.0</td>\n",
       "      <td>0.0</td>\n",
       "      <td>0.0</td>\n",
       "      <td>1.0</td>\n",
       "      <td>1.0</td>\n",
       "      <td>-0.225693</td>\n",
       "      <td>-0.343933</td>\n",
       "      <td>-0.690016</td>\n",
       "      <td>-0.192071</td>\n",
       "      <td>-0.554718</td>\n",
       "      <td>-0.432571</td>\n",
       "      <td>-0.403022</td>\n",
       "    </tr>\n",
       "    <tr>\n",
       "      <th>2</th>\n",
       "      <td>1.0</td>\n",
       "      <td>0.0</td>\n",
       "      <td>0.0</td>\n",
       "      <td>0.0</td>\n",
       "      <td>0.0</td>\n",
       "      <td>1.0</td>\n",
       "      <td>1.0</td>\n",
       "      <td>1.536377</td>\n",
       "      <td>1.647309</td>\n",
       "      <td>0.084924</td>\n",
       "      <td>-0.647583</td>\n",
       "      <td>-0.554718</td>\n",
       "      <td>-0.479113</td>\n",
       "      <td>-0.403022</td>\n",
       "    </tr>\n",
       "    <tr>\n",
       "      <th>3</th>\n",
       "      <td>1.0</td>\n",
       "      <td>0.0</td>\n",
       "      <td>0.0</td>\n",
       "      <td>0.0</td>\n",
       "      <td>0.0</td>\n",
       "      <td>1.0</td>\n",
       "      <td>1.0</td>\n",
       "      <td>-1.519714</td>\n",
       "      <td>0.983562</td>\n",
       "      <td>-0.360667</td>\n",
       "      <td>0.292211</td>\n",
       "      <td>-0.936610</td>\n",
       "      <td>-0.779312</td>\n",
       "      <td>-0.403022</td>\n",
       "    </tr>\n",
       "    <tr>\n",
       "      <th>4</th>\n",
       "      <td>0.0</td>\n",
       "      <td>0.0</td>\n",
       "      <td>1.0</td>\n",
       "      <td>0.0</td>\n",
       "      <td>0.0</td>\n",
       "      <td>0.0</td>\n",
       "      <td>1.0</td>\n",
       "      <td>-0.666211</td>\n",
       "      <td>-0.012060</td>\n",
       "      <td>-0.496281</td>\n",
       "      <td>0.735736</td>\n",
       "      <td>0.022918</td>\n",
       "      <td>-0.046502</td>\n",
       "      <td>-0.403022</td>\n",
       "    </tr>\n",
       "    <tr>\n",
       "      <th>...</th>\n",
       "      <td>...</td>\n",
       "      <td>...</td>\n",
       "      <td>...</td>\n",
       "      <td>...</td>\n",
       "      <td>...</td>\n",
       "      <td>...</td>\n",
       "      <td>...</td>\n",
       "      <td>...</td>\n",
       "      <td>...</td>\n",
       "      <td>...</td>\n",
       "      <td>...</td>\n",
       "      <td>...</td>\n",
       "      <td>...</td>\n",
       "      <td>...</td>\n",
       "    </tr>\n",
       "    <tr>\n",
       "      <th>15406</th>\n",
       "      <td>0.0</td>\n",
       "      <td>0.0</td>\n",
       "      <td>0.0</td>\n",
       "      <td>0.0</td>\n",
       "      <td>0.0</td>\n",
       "      <td>1.0</td>\n",
       "      <td>1.0</td>\n",
       "      <td>1.508844</td>\n",
       "      <td>0.983562</td>\n",
       "      <td>-0.869744</td>\n",
       "      <td>0.026096</td>\n",
       "      <td>-0.767733</td>\n",
       "      <td>-0.757204</td>\n",
       "      <td>-0.403022</td>\n",
       "    </tr>\n",
       "    <tr>\n",
       "      <th>15407</th>\n",
       "      <td>0.0</td>\n",
       "      <td>0.0</td>\n",
       "      <td>0.0</td>\n",
       "      <td>0.0</td>\n",
       "      <td>0.0</td>\n",
       "      <td>1.0</td>\n",
       "      <td>1.0</td>\n",
       "      <td>-0.556082</td>\n",
       "      <td>-1.339555</td>\n",
       "      <td>-0.728763</td>\n",
       "      <td>-0.527711</td>\n",
       "      <td>-0.216964</td>\n",
       "      <td>-0.220803</td>\n",
       "      <td>2.073444</td>\n",
       "    </tr>\n",
       "    <tr>\n",
       "      <th>15408</th>\n",
       "      <td>0.0</td>\n",
       "      <td>0.0</td>\n",
       "      <td>1.0</td>\n",
       "      <td>0.0</td>\n",
       "      <td>0.0</td>\n",
       "      <td>0.0</td>\n",
       "      <td>1.0</td>\n",
       "      <td>0.407551</td>\n",
       "      <td>-0.012060</td>\n",
       "      <td>0.220539</td>\n",
       "      <td>0.344954</td>\n",
       "      <td>0.022918</td>\n",
       "      <td>0.068225</td>\n",
       "      <td>-0.403022</td>\n",
       "    </tr>\n",
       "    <tr>\n",
       "      <th>15409</th>\n",
       "      <td>0.0</td>\n",
       "      <td>0.0</td>\n",
       "      <td>1.0</td>\n",
       "      <td>0.0</td>\n",
       "      <td>0.0</td>\n",
       "      <td>0.0</td>\n",
       "      <td>1.0</td>\n",
       "      <td>1.426247</td>\n",
       "      <td>-0.343933</td>\n",
       "      <td>72.541850</td>\n",
       "      <td>-0.887326</td>\n",
       "      <td>1.329794</td>\n",
       "      <td>0.917158</td>\n",
       "      <td>2.073444</td>\n",
       "    </tr>\n",
       "    <tr>\n",
       "      <th>15410</th>\n",
       "      <td>0.0</td>\n",
       "      <td>0.0</td>\n",
       "      <td>0.0</td>\n",
       "      <td>0.0</td>\n",
       "      <td>0.0</td>\n",
       "      <td>1.0</td>\n",
       "      <td>0.0</td>\n",
       "      <td>-1.024131</td>\n",
       "      <td>-1.339555</td>\n",
       "      <td>-0.825631</td>\n",
       "      <td>-0.407839</td>\n",
       "      <td>0.020999</td>\n",
       "      <td>0.395884</td>\n",
       "      <td>-0.403022</td>\n",
       "    </tr>\n",
       "  </tbody>\n",
       "</table>\n",
       "<p>15411 rows × 14 columns</p>\n",
       "</div>"
      ],
      "text/plain": [
       "        0    1    2    3   ...        10        11        12        13\n",
       "0      1.0  0.0  0.0  0.0  ... -0.000276 -1.324259 -1.263352 -0.403022\n",
       "1      1.0  0.0  0.0  0.0  ... -0.192071 -0.554718 -0.432571 -0.403022\n",
       "2      1.0  0.0  0.0  0.0  ... -0.647583 -0.554718 -0.479113 -0.403022\n",
       "3      1.0  0.0  0.0  0.0  ...  0.292211 -0.936610 -0.779312 -0.403022\n",
       "4      0.0  0.0  1.0  0.0  ...  0.735736  0.022918 -0.046502 -0.403022\n",
       "...    ...  ...  ...  ...  ...       ...       ...       ...       ...\n",
       "15406  0.0  0.0  0.0  0.0  ...  0.026096 -0.767733 -0.757204 -0.403022\n",
       "15407  0.0  0.0  0.0  0.0  ... -0.527711 -0.216964 -0.220803  2.073444\n",
       "15408  0.0  0.0  1.0  0.0  ...  0.344954  0.022918  0.068225 -0.403022\n",
       "15409  0.0  0.0  1.0  0.0  ... -0.887326  1.329794  0.917158  2.073444\n",
       "15410  0.0  0.0  0.0  0.0  ... -0.407839  0.020999  0.395884 -0.403022\n",
       "\n",
       "[15411 rows x 14 columns]"
      ]
     },
     "execution_count": 23,
     "metadata": {},
     "output_type": "execute_result"
    }
   ],
   "source": [
    "pd.DataFrame(X)"
   ]
  },
  {
   "cell_type": "code",
   "execution_count": 24,
   "metadata": {},
   "outputs": [
    {
     "data": {
      "text/plain": [
       "((12328, 14), (3083, 14))"
      ]
     },
     "execution_count": 24,
     "metadata": {},
     "output_type": "execute_result"
    }
   ],
   "source": [
    "# separate dataset into train and test\n",
    "X_train, X_test, y_train, y_test = train_test_split(X,y,test_size=0.2,random_state=42)\n",
    "X_train.shape, X_test.shape"
   ]
  },
  {
   "cell_type": "code",
   "execution_count": 25,
   "metadata": {},
   "outputs": [
    {
     "data": {
      "text/plain": [
       "array([[ 0.        ,  0.        ,  1.        , ...,  1.75390551,\n",
       "         2.66249771, -0.40302241],\n",
       "       [ 1.        ,  0.        ,  0.        , ..., -0.55087963,\n",
       "        -0.38602844, -0.40302241],\n",
       "       [ 0.        ,  0.        ,  1.        , ...,  0.89033072,\n",
       "         3.27453006, -0.40302241],\n",
       "       ...,\n",
       "       [ 1.        ,  0.        ,  0.        , ..., -0.9366097 ,\n",
       "        -0.78070786, -0.40302241],\n",
       "       [ 0.        ,  0.        ,  0.        , ..., -0.55471774,\n",
       "        -0.43582879, -0.40302241],\n",
       "       [ 1.        ,  0.        ,  0.        , ..., -0.04616815,\n",
       "         0.06194201, -0.40302241]])"
      ]
     },
     "execution_count": 25,
     "metadata": {},
     "output_type": "execute_result"
    }
   ],
   "source": [
    "X_train"
   ]
  },
  {
   "cell_type": "markdown",
   "metadata": {},
   "source": [
    "## Model Training And Model Selection"
   ]
  },
  {
   "cell_type": "code",
   "execution_count": 26,
   "metadata": {},
   "outputs": [],
   "source": [
    "from sklearn.ensemble import RandomForestRegressor\n",
    "from sklearn.ensemble import AdaBoostRegressor, GradientBoostingRegressor\n",
    "from sklearn.tree import DecisionTreeRegressor\n",
    "from xgboost import XGBRegressor\n",
    "from sklearn.metrics import r2_score, mean_absolute_error, mean_squared_error"
   ]
  },
  {
   "cell_type": "code",
   "execution_count": 27,
   "metadata": {},
   "outputs": [],
   "source": [
    "##Create a Function to Evaluate Model\n",
    "def evaluate_model(true, predicted):\n",
    "    mae = mean_absolute_error(true, predicted)\n",
    "    mse = mean_squared_error(true, predicted)\n",
    "    rmse = np.sqrt(mean_squared_error(true, predicted))\n",
    "    r2_square = r2_score(true, predicted)\n",
    "    return mae, rmse, r2_square"
   ]
  },
  {
   "cell_type": "code",
   "execution_count": 28,
   "metadata": {},
   "outputs": [
    {
     "name": "stdout",
     "output_type": "stream",
     "text": [
      "Decision Tree\n",
      "Model performance for Training set\n",
      "- Root Mean Squared Error: 20797.2352\n",
      "- Mean Absolute Error: 5164.8199\n",
      "- R2 Score: 0.9995\n",
      "----------------------------------\n",
      "Model performance for Test set\n",
      "- Root Mean Squared Error: 303481.3274\n",
      "- Mean Absolute Error: 124485.8552\n",
      "- R2 Score: 0.8777\n",
      "===================================\n",
      "\n",
      "\n",
      "Random Forest Regressor\n",
      "Model performance for Training set\n",
      "- Root Mean Squared Error: 129506.3835\n",
      "- Mean Absolute Error: 39873.7285\n",
      "- R2 Score: 0.9793\n",
      "----------------------------------\n",
      "Model performance for Test set\n",
      "- Root Mean Squared Error: 226567.0054\n",
      "- Mean Absolute Error: 101899.9256\n",
      "- R2 Score: 0.9318\n",
      "===================================\n",
      "\n",
      "\n",
      "Adaboost Regressor\n",
      "Model performance for Training set\n",
      "- Root Mean Squared Error: 462523.8681\n",
      "- Mean Absolute Error: 349727.1070\n",
      "- R2 Score: 0.7362\n",
      "----------------------------------\n",
      "Model performance for Test set\n",
      "- Root Mean Squared Error: 497797.5410\n",
      "- Mean Absolute Error: 367086.1216\n",
      "- R2 Score: 0.6708\n",
      "===================================\n",
      "\n",
      "\n",
      "Gradient Boosting Regressor\n",
      "Model performance for Training set\n",
      "- Root Mean Squared Error: 204944.5104\n",
      "- Mean Absolute Error: 111709.5558\n",
      "- R2 Score: 0.9482\n",
      "----------------------------------\n",
      "Model performance for Test set\n",
      "- Root Mean Squared Error: 257782.1708\n",
      "- Mean Absolute Error: 126765.6681\n",
      "- R2 Score: 0.9117\n",
      "===================================\n",
      "\n",
      "\n",
      "Xgboost Regressor\n",
      "Model performance for Training set\n",
      "- Root Mean Squared Error: 85441.7918\n",
      "- Mean Absolute Error: 61009.3145\n",
      "- R2 Score: 0.9910\n",
      "----------------------------------\n",
      "Model performance for Test set\n",
      "- Root Mean Squared Error: 246853.8227\n",
      "- Mean Absolute Error: 99048.5066\n",
      "- R2 Score: 0.9191\n",
      "===================================\n",
      "\n",
      "\n"
     ]
    }
   ],
   "source": [
    "## Beginning Model Training\n",
    "models = {\n",
    "    \"Decision Tree\": DecisionTreeRegressor(),\n",
    "    \"Random Forest Regressor\": RandomForestRegressor(),\n",
    "    \"Adaboost Regressor\":AdaBoostRegressor(),\n",
    "    \"Gradient Boosting Regressor\":GradientBoostingRegressor(),\n",
    "    \"Xgboost Regressor\" : XGBRegressor()\n",
    "    \n",
    "}\n",
    "\n",
    "for i in range(len(list(models))):\n",
    "    model = list(models.values())[i]\n",
    "    model.fit(X_train, y_train) # Train model\n",
    "\n",
    "    # Make predictions\n",
    "    y_train_pred = model.predict(X_train)\n",
    "    y_test_pred = model.predict(X_test)\n",
    "    \n",
    "    # Evaluate Train and Test dataset\n",
    "    model_train_mae , model_train_rmse, model_train_r2 = evaluate_model(y_train, y_train_pred)\n",
    "\n",
    "    model_test_mae , model_test_rmse, model_test_r2 = evaluate_model(y_test, y_test_pred)\n",
    "\n",
    "    \n",
    "    print(list(models.keys())[i])\n",
    "    \n",
    "    print('Model performance for Training set')\n",
    "    print(\"- Root Mean Squared Error: {:.4f}\".format(model_train_rmse))\n",
    "    print(\"- Mean Absolute Error: {:.4f}\".format(model_train_mae))\n",
    "    print(\"- R2 Score: {:.4f}\".format(model_train_r2))\n",
    "\n",
    "    print('----------------------------------')\n",
    "    \n",
    "    print('Model performance for Test set')\n",
    "    print(\"- Root Mean Squared Error: {:.4f}\".format(model_test_rmse))\n",
    "    print(\"- Mean Absolute Error: {:.4f}\".format(model_test_mae))\n",
    "    print(\"- R2 Score: {:.4f}\".format(model_test_r2))\n",
    "    \n",
    "    print('='*35)\n",
    "    print('\\n')"
   ]
  },
  {
   "cell_type": "markdown",
   "metadata": {},
   "source": [
    "## Hyperparameter tuning for Ada Boost"
   ]
  },
  {
   "cell_type": "code",
   "execution_count": 46,
   "metadata": {},
   "outputs": [],
   "source": [
    "AdaBoost_param ={\n",
    "    \"n_estimators\":  [20,30,40,50,70],\n",
    "    \"learning_rate\":  [0.6,0.5,0.4,0.3],\n",
    "    \"loss\": ['linear', 'square', 'exponential']\n",
    "}"
   ]
  },
  {
   "cell_type": "code",
   "execution_count": 47,
   "metadata": {},
   "outputs": [],
   "source": [
    "# Models list for Hyperparameter tuning\n",
    "randomcv_models = [\n",
    "    (\"AdaBoost Regressor\",AdaBoostRegressor(),AdaBoost_param)                   \n",
    "                   ]"
   ]
  },
  {
   "cell_type": "code",
   "execution_count": null,
   "metadata": {},
   "outputs": [
    {
     "name": "stdout",
     "output_type": "stream",
     "text": [
      "Fitting 3 folds for each of 60 candidates, totalling 180 fits\n"
     ]
    }
   ],
   "source": [
    "best_models = {}  \n",
    "model_param = {}  \n",
    "\n",
    "# Hyperparameter Tuning\n",
    "for name, model, params in randomcv_models:\n",
    "    random = RandomizedSearchCV(\n",
    "        estimator=model,\n",
    "        param_distributions=params,\n",
    "        n_iter=100,\n",
    "        cv=3,\n",
    "        verbose=3,\n",
    "        n_jobs=-1,\n",
    "        random_state=42\n",
    "    )\n",
    "    random.fit(X_train, y_train)\n",
    "    best_models[name] = random.best_estimator_\n",
    "    model_param[name] = random.best_params_\n"
   ]
  },
  {
   "cell_type": "code",
   "execution_count": 66,
   "metadata": {},
   "outputs": [
    {
     "name": "stdout",
     "output_type": "stream",
     "text": [
      "---------------- Best Params for Xgboost Regressor -------------------\n",
      "{'n_estimators': 300, 'max_depth': 5, 'learning_rate': 0.1, 'colsample_bytree': 0.8}\n",
      "\n",
      "====== Xgboost Regressor ======\n",
      "Model performance for Training set\n",
      "- Root Mean Squared Error: 107872.7065\n",
      "- Mean Absolute Error: 71943.1849\n",
      "- R2 Score: 0.9857\n",
      "Model performance for Test set\n",
      "- Root Mean Squared Error: 282987.1247\n",
      "- Mean Absolute Error: 101325.8009\n",
      "- R2 Score: 0.8936\n",
      "========================================\n",
      "\n"
     ]
    }
   ],
   "source": [
    "# Display best parameters\n",
    "for model_name, params in model_param.items():\n",
    "    print(f\"---------------- Best Params for {model_name} -------------------\")\n",
    "    print(params)\n",
    "\n",
    "# Retrain using the best estimators\n",
    "for name, model in best_models.items():\n",
    "    model.fit(X_train, y_train)\n",
    "\n",
    "    # Predict\n",
    "    y_train_pred = model.predict(X_train)\n",
    "    y_test_pred = model.predict(X_test)\n",
    "\n",
    "    # Evaluate\n",
    "    model_train_mae, model_train_rmse, model_train_r2 = evaluate_model(y_train, y_train_pred)\n",
    "    model_test_mae, model_test_rmse, model_test_r2 = evaluate_model(y_test, y_test_pred)\n",
    "\n",
    "    # Print results\n",
    "    print()\n",
    "    print(f\"====== {name} ======\")\n",
    "    print('Model performance for Training set')\n",
    "    print(f\"- Root Mean Squared Error: {model_train_rmse:.4f}\")\n",
    "    print(f\"- Mean Absolute Error: {model_train_mae:.4f}\")\n",
    "    print(f\"- R2 Score: {model_train_r2:.4f}\")\n",
    "    \n",
    "    print('Model performance for Test set')\n",
    "    print(f\"- Root Mean Squared Error: {model_test_rmse:.4f}\")\n",
    "    print(f\"- Mean Absolute Error: {model_test_mae:.4f}\")\n",
    "    print(f\"- R2 Score: {model_test_r2:.4f}\")\n",
    "    print(\"=\" * 40 + \"\\n\")\n"
   ]
  },
  {
   "cell_type": "markdown",
   "metadata": {},
   "source": [
    "## Hyperparameter tuning for Gradient Boost"
   ]
  },
  {
   "cell_type": "code",
   "execution_count": 54,
   "metadata": {},
   "outputs": [],
   "source": [
    "#Initialize few parameter for Hyperparamter tuning\n",
    "gradient_params={\n",
    "    \"loss\": ['squared_error', 'absolute_error'],\n",
    "    \"criterion\": [ 'squared_error', 'mse'],\n",
    "    \"min_samples_split\": [2, 8, 15, 20],\n",
    "    \"n_estimators\": [200, 500, 1000],\n",
    "    \"max_depth\": [5, 8, 15, 10],\n",
    "    \"learning_rate\": [0.1, 0.01,0.001]\n",
    "}"
   ]
  },
  {
   "cell_type": "code",
   "execution_count": null,
   "metadata": {},
   "outputs": [],
   "source": [
    "randomcv_models = [\n",
    "    (\"Gradient Boost Regressor\",GradientBoostingRegressor(),gradient_params)\n",
    "                   ]"
   ]
  },
  {
   "cell_type": "code",
   "execution_count": 56,
   "metadata": {},
   "outputs": [
    {
     "name": "stdout",
     "output_type": "stream",
     "text": [
      "Fitting 3 folds for each of 50 candidates, totalling 150 fits\n"
     ]
    }
   ],
   "source": [
    "best_models = {}  \n",
    "model_param = {}  \n",
    "\n",
    "# Hyperparameter Tuning\n",
    "for name, model, params in randomcv_models:\n",
    "    random = RandomizedSearchCV(\n",
    "        estimator=model,\n",
    "        param_distributions=params,\n",
    "        n_iter=50,\n",
    "        cv=3,\n",
    "        verbose=3,\n",
    "        n_jobs=-1,\n",
    "        random_state=42\n",
    "    )\n",
    "    random.fit(X_train, y_train)\n",
    "    best_models[name] = random.best_estimator_\n",
    "    model_param[name] = random.best_params_\n"
   ]
  },
  {
   "cell_type": "code",
   "execution_count": 58,
   "metadata": {},
   "outputs": [
    {
     "name": "stdout",
     "output_type": "stream",
     "text": [
      "---------------- Best Params for Gradient Boost Regressor -------------------\n",
      "{'n_estimators': 500, 'min_samples_split': 20, 'max_depth': 5, 'loss': 'squared_error', 'learning_rate': 0.1, 'criterion': 'squared_error'}\n",
      "\n",
      "====== Gradient Boost Regressor ======\n",
      "Model performance for Training set\n",
      "- Root Mean Squared Error: 95905.9867\n",
      "- Mean Absolute Error: 66202.6796\n",
      "- R2 Score: 0.9887\n",
      "Model performance for Test set\n",
      "- Root Mean Squared Error: 218183.5539\n",
      "- Mean Absolute Error: 96810.4246\n",
      "- R2 Score: 0.9368\n",
      "========================================\n",
      "\n"
     ]
    }
   ],
   "source": [
    "# Display best parameters\n",
    "for model_name, params in model_param.items():\n",
    "    print(f\"---------------- Best Params for {model_name} -------------------\")\n",
    "    print(params)\n",
    "\n",
    "# Retrain using the best estimators\n",
    "for name, model in best_models.items():\n",
    "    model.fit(X_train, y_train)\n",
    "\n",
    "    # Predict\n",
    "    y_train_pred = model.predict(X_train)\n",
    "    y_test_pred = model.predict(X_test)\n",
    "\n",
    "    # Evaluate\n",
    "    model_train_mae, model_train_rmse, model_train_r2 = evaluate_model(y_train, y_train_pred)\n",
    "    model_test_mae, model_test_rmse, model_test_r2 = evaluate_model(y_test, y_test_pred)\n",
    "\n",
    "    # Print results\n",
    "    print()\n",
    "    print(f\"====== {name} ======\")\n",
    "    print('Model performance for Training set')\n",
    "    print(f\"- Root Mean Squared Error: {model_train_rmse:.4f}\")\n",
    "    print(f\"- Mean Absolute Error: {model_train_mae:.4f}\")\n",
    "    print(f\"- R2 Score: {model_train_r2:.4f}\")\n",
    "    \n",
    "    print('Model performance for Test set')\n",
    "    print(f\"- Root Mean Squared Error: {model_test_rmse:.4f}\")\n",
    "    print(f\"- Mean Absolute Error: {model_test_mae:.4f}\")\n",
    "    print(f\"- R2 Score: {model_test_r2:.4f}\")\n",
    "    print(\"=\" * 40 + \"\\n\")\n"
   ]
  },
  {
   "cell_type": "markdown",
   "metadata": {},
   "source": [
    "## Hyperparameter tuning for XgBoost"
   ]
  },
  {
   "cell_type": "code",
   "execution_count": 59,
   "metadata": {},
   "outputs": [],
   "source": [
    "xgboost_params = {\"learning_rate\": [0.1, 0.01],\n",
    "    \"max_depth\": [5, 8, 12, 20,30],\n",
    "    \"n_estimators\": [100,200,300],\n",
    "    \"colsample_bytree\": [0.5, 0.8, 1, 0.3, 0.4]}"
   ]
  },
  {
   "cell_type": "code",
   "execution_count": 63,
   "metadata": {},
   "outputs": [],
   "source": [
    "randomcv_models = [\n",
    "    (\"Xgboost Regressor\",XGBRegressor(), xgboost_params)]"
   ]
  },
  {
   "cell_type": "code",
   "execution_count": 64,
   "metadata": {},
   "outputs": [
    {
     "name": "stdout",
     "output_type": "stream",
     "text": [
      "Fitting 3 folds for each of 50 candidates, totalling 150 fits\n"
     ]
    }
   ],
   "source": [
    "best_models = {}  \n",
    "model_param = {}  \n",
    "\n",
    "# Hyperparameter Tuning\n",
    "for name, model, params in randomcv_models:\n",
    "    random = RandomizedSearchCV(\n",
    "        estimator=model,\n",
    "        param_distributions=params,\n",
    "        n_iter=50,\n",
    "        cv=3,\n",
    "        verbose=3,\n",
    "        n_jobs=-1,\n",
    "        random_state=42\n",
    "    )\n",
    "    random.fit(X_train, y_train)\n",
    "    best_models[name] = random.best_estimator_\n",
    "    model_param[name] = random.best_params_\n"
   ]
  },
  {
   "cell_type": "code",
   "execution_count": 65,
   "metadata": {},
   "outputs": [
    {
     "name": "stdout",
     "output_type": "stream",
     "text": [
      "---------------- Best Params for Xgboost Regressor -------------------\n",
      "{'n_estimators': 300, 'max_depth': 5, 'learning_rate': 0.1, 'colsample_bytree': 0.8}\n",
      "\n",
      "====== Xgboost Regressor ======\n",
      "Model performance for Training set\n",
      "- Root Mean Squared Error: 107872.7065\n",
      "- Mean Absolute Error: 71943.1849\n",
      "- R2 Score: 0.9857\n",
      "Model performance for Test set\n",
      "- Root Mean Squared Error: 282987.1247\n",
      "- Mean Absolute Error: 101325.8009\n",
      "- R2 Score: 0.8936\n",
      "========================================\n",
      "\n"
     ]
    }
   ],
   "source": [
    "# Display best parameters\n",
    "for model_name, params in model_param.items():\n",
    "    print(f\"---------------- Best Params for {model_name} -------------------\")\n",
    "    print(params)\n",
    "\n",
    "# Retrain using the best estimators\n",
    "for name, model in best_models.items():\n",
    "    model.fit(X_train, y_train)\n",
    "\n",
    "    # Predict\n",
    "    y_train_pred = model.predict(X_train)\n",
    "    y_test_pred = model.predict(X_test)\n",
    "\n",
    "    # Evaluate\n",
    "    model_train_mae, model_train_rmse, model_train_r2 = evaluate_model(y_train, y_train_pred)\n",
    "    model_test_mae, model_test_rmse, model_test_r2 = evaluate_model(y_test, y_test_pred)\n",
    "\n",
    "    # Print results\n",
    "    print()\n",
    "    print(f\"====== {name} ======\")\n",
    "    print('Model performance for Training set')\n",
    "    print(f\"- Root Mean Squared Error: {model_train_rmse:.4f}\")\n",
    "    print(f\"- Mean Absolute Error: {model_train_mae:.4f}\")\n",
    "    print(f\"- R2 Score: {model_train_r2:.4f}\")\n",
    "    \n",
    "    print('Model performance for Test set')\n",
    "    print(f\"- Root Mean Squared Error: {model_test_rmse:.4f}\")\n",
    "    print(f\"- Mean Absolute Error: {model_test_mae:.4f}\")\n",
    "    print(f\"- R2 Score: {model_test_r2:.4f}\")\n",
    "    print(\"=\" * 40 + \"\\n\")\n"
   ]
  },
  {
   "cell_type": "code",
   "execution_count": null,
   "metadata": {},
   "outputs": [],
   "source": []
  }
 ],
 "metadata": {
  "kernelspec": {
   "display_name": "Python 3",
   "language": "python",
   "name": "python3"
  },
  "language_info": {
   "codemirror_mode": {
    "name": "ipython",
    "version": 3
   },
   "file_extension": ".py",
   "mimetype": "text/x-python",
   "name": "python",
   "nbconvert_exporter": "python",
   "pygments_lexer": "ipython3",
   "version": "3.12.0"
  }
 },
 "nbformat": 4,
 "nbformat_minor": 4
}
